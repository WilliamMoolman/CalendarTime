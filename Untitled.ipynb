{
 "cells": [
  {
   "cell_type": "code",
   "execution_count": 1,
   "id": "53d72fab-8fad-4be2-8d53-c1d83a289b69",
   "metadata": {},
   "outputs": [],
   "source": [
    "from datetime import datetime\n",
    "from events import Events\n",
    "\n",
    "events = Events([\"events.json\",\"sport.json\"])\n",
    "totals = events.get_totals(start_date=datetime(2022,1,1))"
   ]
  },
  {
   "cell_type": "code",
   "execution_count": 15,
   "id": "80f803b6-233e-4cb3-8a41-c0ff128f5bde",
   "metadata": {},
   "outputs": [],
   "source": [
    "totals = events.get_totals(start_date=datetime(2022,1,1))"
   ]
  },
  {
   "cell_type": "code",
   "execution_count": 16,
   "id": "aeae9638-401d-496a-ab65-7edcd1c077ae",
   "metadata": {},
   "outputs": [
    {
     "data": {
      "image/png": "[encoded data removed]",
      "text/plain": [
       "<Figure size 720x504 with 1 Axes>"
      ]
     },
     "metadata": {
      "needs_background": "light"
     },
     "output_type": "display_data"
    }
   ],
   "source": [
    "######\n",
    "# WEEKLY BAR CHART\n",
    "######\n",
    "\n",
    "import numpy as np\n",
    "import matplotlib.pyplot as plt\n",
    " \n",
    "N = len(totals)\n",
    " \n",
    "study = np.array([totals[key][\"Categories\"][\"Study\"]//3600 for key in totals.keys()])\n",
    "timetable = np.array([totals[key][\"Categories\"][\"Timetable\"]//3600 for key in totals.keys()])\n",
    "social = np.array([totals[key][\"Categories\"][\"Social\"]//3600 for key in totals.keys()])\n",
    "sport = np.array([totals[key][\"Categories\"][\"Sport\"]//3600 for key in totals.keys()])\n",
    "ind = np.arange(N)  \n",
    "width = 0.35 \n",
    " \n",
    "fig = plt.subplots(figsize =(10, 7))\n",
    "p1 = plt.bar(ind, study, width)\n",
    "p2 = plt.bar(ind, timetable, width, bottom = study)\n",
    "p3 = plt.bar(ind, social, width, bottom = study+timetable)\n",
    "p4 = plt.bar(ind, sport, width, bottom = study+timetable+social)\n",
    "\n",
    " \n",
    "plt.ylabel('Hours')\n",
    "plt.title('Weekly work')\n",
    "plt.xticks(ind, totals.keys())\n",
    "\n",
    "plt.axhline(32)\n",
    "\n",
    "plt.legend((p1[0], p2[0], p3[0], p4[0]), ('study', 'timetable','social','sport'))\n",
    " \n",
    "plt.show()"
   ]
  },
  {
   "cell_type": "code",
   "execution_count": 1,
   "id": "65de50c5-55d1-4640-aa32-6b0c3ec90821",
   "metadata": {},
   "outputs": [],
   "source": [
    "from events import Events\n",
    "\n",
    "events = Events()"
   ]
  },
  {
   "cell_type": "code",
   "execution_count": 10,
   "id": "69db1aa7-fbc7-415d-9bf2-91efb02785f5",
   "metadata": {},
   "outputs": [
    {
     "data": {
      "text/plain": [
       "630"
      ]
     },
     "execution_count": 10,
     "metadata": {},
     "output_type": "execute_result"
    }
   ],
   "source": [
    "import json\n",
    "\n",
    "with open('main calendar.json') as f:\n",
    "    mc = json.loads(f.read())\n",
    "with open('sport.json') as f:\n",
    "    s = json.loads(f.read())\n",
    "c = dict(mc, **s)\n",
    "len(mc['value'])"
   ]
  },
  {
   "cell_type": "code",
   "execution_count": 2,
   "id": "9075a1f6-c8fa-480b-a0db-6cc86b321211",
   "metadata": {},
   "outputs": [
    {
     "data": {
      "text/plain": [
       "array([['Week 3', 'Sport', None, datetime.timedelta(seconds=379)],\n",
       "       ['Week 3', 'Sport', None, datetime.timedelta(seconds=3946)],\n",
       "       ['Week 3', 'Sport', None, datetime.timedelta(seconds=3600)],\n",
       "       ['Week 3', 'Sport', None, datetime.timedelta(seconds=587)],\n",
       "       ['Week 3', 'Sport', None, datetime.timedelta(seconds=3605)],\n",
       "       ['Week 2', 'Sport', None, datetime.timedelta(seconds=6600)],\n",
       "       ['Week 2', 'Sport', None, datetime.timedelta(seconds=4620)],\n",
       "       ['Week 2', 'Sport', None, datetime.timedelta(seconds=3816)],\n",
       "       ['Week 2', 'Sport', None, datetime.timedelta(seconds=4935)],\n",
       "       ['Week 2', 'Sport', None, datetime.timedelta(seconds=1570)],\n",
       "       ['Week 2', 'Sport', None, datetime.timedelta(seconds=691)],\n",
       "       ['Week 1', 'Sport', None, datetime.timedelta(seconds=4840)],\n",
       "       ['Before', 'Sport', None, datetime.timedelta(seconds=847)],\n",
       "       ['Before', 'Sport', None, datetime.timedelta(seconds=5474)],\n",
       "       ['Before', 'Sport', None, datetime.timedelta(seconds=5026)],\n",
       "       ['Before', 'Sport', None, datetime.timedelta(seconds=2288)],\n",
       "       ['Before', 'Sport', None, datetime.timedelta(seconds=4232)],\n",
       "       ['Before', 'Sport', None, datetime.timedelta(seconds=8681)],\n",
       "       ['Before', 'Sport', None, datetime.timedelta(seconds=13124)],\n",
       "       ['Before', 'Sport', None, datetime.timedelta(seconds=1577)],\n",
       "       ['Before', 'Sport', None, datetime.timedelta(seconds=5223)],\n",
       "       ['Before', 'Sport', None, datetime.timedelta(seconds=5702)],\n",
       "       ['Before', 'Sport', None, datetime.timedelta(seconds=5379)],\n",
       "       ['Before', 'Sport', None, datetime.timedelta(seconds=4812)],\n",
       "       ['Before', 'Sport', None, datetime.timedelta(seconds=5144)],\n",
       "       ['Before', 'Sport', None, datetime.timedelta(seconds=5102)],\n",
       "       ['Before', 'Sport', None, datetime.timedelta(seconds=4536)],\n",
       "       ['Before', 'Sport', None, datetime.timedelta(seconds=4904)],\n",
       "       ['Before', 'Sport', None, datetime.timedelta(seconds=2083)],\n",
       "       ['Before', 'Sport', None, datetime.timedelta(seconds=1460)],\n",
       "       ['Before', 'Sport', None, datetime.timedelta(seconds=7638)],\n",
       "       ['Before', 'Sport', None, datetime.timedelta(seconds=4307)],\n",
       "       ['Before', 'Sport', None, datetime.timedelta(seconds=17189)],\n",
       "       ['Before', 'Sport', None, datetime.timedelta(seconds=4980)],\n",
       "       ['Before', 'Sport', None, datetime.timedelta(seconds=4527)],\n",
       "       ['Before', 'Sport', None, datetime.timedelta(seconds=5309)],\n",
       "       ['Before', 'Sport', None, datetime.timedelta(seconds=4968)],\n",
       "       ['Before', 'Sport', None, datetime.timedelta(seconds=3425)],\n",
       "       ['Before', 'Sport', None, datetime.timedelta(seconds=5167)],\n",
       "       ['Before', 'Sport', None, datetime.timedelta(seconds=5119)],\n",
       "       ['Before', 'Sport', None, datetime.timedelta(seconds=553)],\n",
       "       ['Before', 'Sport', None, datetime.timedelta(seconds=467)],\n",
       "       ['Before', 'Sport', None, datetime.timedelta(seconds=4880)],\n",
       "       ['Before', 'Sport', None, datetime.timedelta(seconds=4956)],\n",
       "       ['Before', 'Sport', None, datetime.timedelta(seconds=4716)],\n",
       "       ['Before', 'Sport', None, datetime.timedelta(seconds=1033)],\n",
       "       ['Before', 'Sport', None, datetime.timedelta(seconds=3984)],\n",
       "       ['Before', 'Sport', None, datetime.timedelta(seconds=1194)],\n",
       "       ['Before', 'Sport', None, datetime.timedelta(seconds=3311)],\n",
       "       ['Before', 'Sport', None, datetime.timedelta(seconds=1127)],\n",
       "       ['Before', 'Sport', None, datetime.timedelta(seconds=2089)],\n",
       "       ['Before', 'Sport', None, datetime.timedelta(seconds=1029)],\n",
       "       ['Before', 'Sport', None, datetime.timedelta(seconds=6677)],\n",
       "       ['Before', 'Sport', None, datetime.timedelta(seconds=4681)],\n",
       "       ['Before', 'Sport', None, datetime.timedelta(seconds=924)],\n",
       "       ['Before', 'Sport', None, datetime.timedelta(seconds=4336)],\n",
       "       ['Before', 'Sport', None, datetime.timedelta(seconds=5164)],\n",
       "       ['Before', 'Sport', None, datetime.timedelta(seconds=4984)],\n",
       "       ['Before', 'Sport', None, datetime.timedelta(seconds=10013)],\n",
       "       ['Before', 'Sport', None, datetime.timedelta(seconds=1319)],\n",
       "       ['Before', 'Sport', None, datetime.timedelta(seconds=1108)],\n",
       "       ['Before', 'Sport', None, datetime.timedelta(seconds=908)],\n",
       "       ['Before', 'Sport', None, datetime.timedelta(seconds=21173)],\n",
       "       ['Before', 'Sport', None, datetime.timedelta(seconds=663)],\n",
       "       ['Before', 'Sport', None, datetime.timedelta(seconds=949)],\n",
       "       ['Before', 'Sport', None, datetime.timedelta(seconds=2280)],\n",
       "       ['Before', 'Sport', None, datetime.timedelta(seconds=1808)],\n",
       "       ['Before', 'Sport', None, datetime.timedelta(seconds=1275)],\n",
       "       ['Before', 'Sport', None, datetime.timedelta(seconds=2596)],\n",
       "       ['Before', 'Sport', None, datetime.timedelta(seconds=5076)],\n",
       "       ['Before', 'Sport', None, datetime.timedelta(seconds=1933)],\n",
       "       ['Before', 'Sport', None, datetime.timedelta(seconds=1542)],\n",
       "       ['Before', 'Sport', None, datetime.timedelta(seconds=284)],\n",
       "       ['Before', 'Sport', None, datetime.timedelta(seconds=884)],\n",
       "       ['Before', 'Sport', None, datetime.timedelta(seconds=1251)],\n",
       "       ['Before', 'Sport', None, datetime.timedelta(seconds=296)],\n",
       "       ['Before', 'Sport', None, datetime.timedelta(seconds=1464)],\n",
       "       ['Before', 'Sport', None, datetime.timedelta(seconds=1219)],\n",
       "       ['Before', 'Sport', None, datetime.timedelta(seconds=1520)],\n",
       "       ['Before', 'Sport', None, datetime.timedelta(seconds=1346)],\n",
       "       ['Before', 'Sport', None, datetime.timedelta(seconds=1104)],\n",
       "       ['Before', 'Sport', None, datetime.timedelta(seconds=2044)],\n",
       "       ['Before', 'Sport', None, datetime.timedelta(seconds=6301)],\n",
       "       ['Before', 'Sport', None, datetime.timedelta(seconds=1039)],\n",
       "       ['Before', 'Sport', None, datetime.timedelta(seconds=1204)],\n",
       "       ['Before', 'Sport', None, datetime.timedelta(seconds=2487)],\n",
       "       ['Before', 'Sport', None, datetime.timedelta(seconds=881)],\n",
       "       ['Before', 'Sport', None, datetime.timedelta(seconds=1779)],\n",
       "       ['Before', 'Sport', None, datetime.timedelta(seconds=5052)],\n",
       "       ['Before', 'Sport', None, datetime.timedelta(seconds=2520)],\n",
       "       ['Before', 'Sport', None, datetime.timedelta(seconds=4658)],\n",
       "       ['Before', 'Sport', None, datetime.timedelta(seconds=13340)],\n",
       "       ['Before', 'Sport', None, datetime.timedelta(seconds=2472)],\n",
       "       ['Before', 'Sport', None, datetime.timedelta(seconds=2037)],\n",
       "       ['Before', 'Sport', None, datetime.timedelta(seconds=8230)],\n",
       "       ['Before', 'Sport', None, datetime.timedelta(seconds=4852)],\n",
       "       ['Before', 'Sport', None, datetime.timedelta(seconds=2406)],\n",
       "       ['Before', 'Sport', None, datetime.timedelta(seconds=2084)],\n",
       "       ['Before', 'Sport', None, datetime.timedelta(seconds=1068)],\n",
       "       ['Before', 'Sport', None, datetime.timedelta(seconds=2134)],\n",
       "       ['Before', 'Sport', None, datetime.timedelta(seconds=2854)],\n",
       "       ['Before', 'Sport', None, datetime.timedelta(seconds=1788)],\n",
       "       ['Before', 'Sport', None, datetime.timedelta(seconds=1671)],\n",
       "       ['Before', 'Sport', None, datetime.timedelta(seconds=4280)],\n",
       "       ['Before', 'Sport', None, datetime.timedelta(seconds=1163)],\n",
       "       ['Before', 'Sport', None, datetime.timedelta(seconds=2355)],\n",
       "       ['Before', 'Sport', None, datetime.timedelta(seconds=736)],\n",
       "       ['Before', 'Sport', None, datetime.timedelta(seconds=1465)],\n",
       "       ['Before', 'Sport', None, datetime.timedelta(seconds=2880)],\n",
       "       ['Before', 'Sport', None, datetime.timedelta(seconds=2100)],\n",
       "       ['Before', 'Sport', None, datetime.timedelta(seconds=1360)],\n",
       "       ['Before', 'Sport', None, datetime.timedelta(seconds=1678)],\n",
       "       ['Before', 'Sport', None, datetime.timedelta(seconds=1465)],\n",
       "       ['Before', 'Sport', None, datetime.timedelta(seconds=2828)],\n",
       "       ['Before', 'Sport', None, datetime.timedelta(seconds=4543)],\n",
       "       ['Before', 'Sport', None, datetime.timedelta(seconds=516)],\n",
       "       ['Before', 'Sport', None, datetime.timedelta(seconds=5138)],\n",
       "       ['Before', 'Sport', None, datetime.timedelta(seconds=2999)]],\n",
       "      dtype=object)"
      ]
     },
     "execution_count": 2,
     "metadata": {},
     "output_type": "execute_result"
    }
   ],
   "source": [
    "events.events"
   ]
  }
 ],
 "metadata": {
  "kernelspec": {
   "display_name": "Python 3 (ipykernel)",
   "language": "python",
   "name": "python3"
  },
  "language_info": {
   "codemirror_mode": {
    "name": "ipython",
    "version": 3
   },
   "file_extension": ".py",
   "mimetype": "text/x-python",
   "name": "python",
   "nbconvert_exporter": "python",
   "pygments_lexer": "ipython3",
   "version": "3.8.10"
  }
 },
 "nbformat": 4,
 "nbformat_minor": 5
}
